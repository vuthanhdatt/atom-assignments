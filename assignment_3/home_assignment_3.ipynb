{
  "nbformat": 4,
  "nbformat_minor": 0,
  "metadata": {
    "colab": {
      "name": "Slack-Data.ipynb",
      "provenance": [],
      "collapsed_sections": []
    },
    "kernelspec": {
      "name": "python385jvsc74a57bd0ef8d51b6e765846ba3dbc6b588704097c20c1d9961af5b0a6ba5d38dba7ef221",
      "display_name": "Python 3.8.5 64-bit"
    },
    "language_info": {
      "name": "python",
      "version": "3.8.5"
    },
    "metadata": {
      "interpreter": {
        "hash": "ef8d51b6e765846ba3dbc6b588704097c20c1d9961af5b0a6ba5d38dba7ef221"
      }
    }
  },
  "cells": [
    {
      "cell_type": "markdown",
      "metadata": {
        "id": "4w2e0D-hni2p"
      },
      "source": [
        "# HOME ASSIGNMENT #3: SLACK API - TO GSHEET\n",
        "**Mục đích của bài Assignment**\n",
        "- Lấy thông tin các Users từ Slack của DataCracy (BTC, Mentors và Learners)\n",
        "- `**[Optional 1]**` Đưa danh sách Users lên Google Spreadsheet, để theo dõi \n",
        "- `**[Optional 2]**` Lấy thông tin Assignment Submission và số Reviews trên `#atom-assignmentnt2` và cập nhật lên Spreadsheet, để theo dõi các học viên đã nộp bài và được review\n",
        "\n",
        "**Các kiến thức sẽ áp dụng**\n",
        "- Ôn lại và luyện tập thêm về concept API (cụ thể sử dụng API Slack)\n",
        "- Trích xuất thông tin từ JSON\n",
        "- Dùng module gspread để đưa thông tin lên Google Spreadsheet"
      ]
    },
    {
      "cell_type": "markdown",
      "metadata": {
        "id": "yitICPVzpRI2"
      },
      "source": [
        "## 0. Load Modules"
      ]
    },
    {
      "cell_type": "code",
      "metadata": {
        "id": "G_HCucZ5rSHq"
      },
      "source": [
        "import requests #-> Để gọi API\n",
        "import re #-> Để xử lý data dạng string\n",
        "from datetime import datetime as dt #-> Để xử lý data dạng datetime\n",
        "import gspread #-> Để update data lên Google Spreadsheet\n",
        "from gspread_dataframe import set_with_dataframe #-> Để update data lên Google Spreadsheet\n",
        "import pandas as pd #-> Để update data dạng bản\n",
        "import json \n",
        "from oauth2client.service_account import ServiceAccountCredentials #-> Để nhập Google Spreadsheet Credentials\n",
        "import os"
      ],
      "execution_count": 1,
      "outputs": []
    },
    {
      "cell_type": "markdown",
      "metadata": {
        "id": "z7HOk6uMp2K2"
      },
      "source": [
        "## 1. Slack API: User List\n",
        "* Bạn có thể đọc lại về concept API [HERE](https://anhdang.gitbook.io/datacracy/atom/3-data-tools-2/3.2-spotify-api-and-postman)\n",
        "* Assignment này sẽ dùng Slack API để lấy thông tin về Learners và theo dõi các bài tập đã nộp và được review (sau đó cập nhật lên Google Spreadsheet)\n",
        "* ===> **NOTICE**: Slack API authorize bằng Bearer Token `xoxb-...-...-...` (Sẽ được cung cấp riêng)\n",
        "* Update file `env_variable.json` như trong [Assignment#2](../assignment_2/home_assignment_2.ipynb)\n",
        "* ==> Nếu bạn dùng Google Colab, upload file vào Colab ([Hướng dẫn](https://colab.research.google.com/notebooks/io.ipynb))"
      ]
    },
    {
      "cell_type": "code",
      "metadata": {
        "colab": {
          "base_uri": "https://localhost:8080/"
        },
        "id": "YoSEHfdTwYRj",
        "outputId": "02b1f5e1-6f9a-4c2b-a481-33284324d1cc"
      },
      "source": [
        "!dir\n"
      ],
      "execution_count": 2,
      "outputs": [
        {
          "output_type": "stream",
          "name": "stdout",
          "text": [
            " Volume in drive C is Local Disk\n",
            " Volume Serial Number is AA17-54D9\n",
            "\n",
            " Directory of c:\\Users\\who is worrA\\OneDrive - VNU-HCMUS\\OSSU\\Datacracy\\atom-assignments\\atom-assignments\\assignment_3\n",
            "\n",
            "05/20/2021  04:28 PM    <DIR>          .\n",
            "05/20/2021  04:28 PM    <DIR>          ..\n",
            "05/21/2021  12:21 PM               145 env_variable.json\n",
            "05/20/2021  04:24 PM             2,330 fifth-dynamics-314309-366d9d5b8063.json\n",
            "05/21/2021  04:01 PM            27,922 home_assignment_3.ipynb\n",
            "05/16/2021  08:33 AM               235 README.md\n",
            "               4 File(s)         30,632 bytes\n",
            "               2 Dir(s)  28,237,758,464 bytes free\n"
          ]
        }
      ]
    },
    {
      "cell_type": "code",
      "metadata": {
        "id": "tFPqT2pirhy4"
      },
      "source": [
        "with open('env_variable.json', 'r') as j:\n",
        "    json_data = json.load(j)\n",
        "    # print(json_data)"
      ],
      "execution_count": 3,
      "outputs": []
    },
    {
      "cell_type": "code",
      "metadata": {
        "id": "wAzmaVTLrpvH"
      },
      "source": [
        "## Load SLACK_BEARER_TOKEN\n",
        "os.environ['SLACK_BEARER_TOKEN'] = json_data['SLACK_BEARER_TOKEN'] "
      ],
      "execution_count": 4,
      "outputs": []
    },
    {
      "cell_type": "code",
      "metadata": {
        "id": "K_TrDTx138jD"
      },
      "source": [
        "## Gọi API từ Endpoints (Input - Token được đưa vào Headers)\n",
        "## Challenge: Thử gọi API này bằng Postman\n",
        "endpoint = \"https://slack.com/api/users.list\"\n",
        "headers = {\"Authorization\": \"Bearer {}\".format(os.environ['SLACK_BEARER_TOKEN'])}\n",
        "response_json = requests.post(endpoint, headers=headers).json() \n",
        "user_data = response_json['members']"
      ],
      "execution_count": 5,
      "outputs": []
    },
    {
      "cell_type": "markdown",
      "metadata": {
        "id": "rqEti4Y50tdB"
      },
      "source": [
        "### TODO #1\n",
        "Hoàn tất đoạn code sau"
      ]
    },
    {
      "cell_type": "code",
      "metadata": {
        "id": "P0qbkdhtD9ww"
      },
      "source": [
        "## Loop qua JSON file và extract các thông tin quan trọng (id, name, display_name, real_name_normalized, title, phone, is_bot)\n",
        "## Hint: Bạn có thể dùng Postman hoặc in user_data JSON để xem cấu trúc (schema), dùng Ctrl+F để tìm các keys (id, name, display_name, real_name_normalized, title, phone, is_bot)\n",
        "user_dict = {'user_id':[], 'name':[], 'display_name':[],'real_name':[],'title':[],'phone':[],'is_bot':[]}\n",
        "for user in user_data:\n",
        "  user_dict['user_id'].append(user['id'])\n",
        "  user_dict['name'].append(user['name'])\n",
        "  user_dict['display_name'].append(user['profile']['display_name'])\n",
        "  user_dict['real_name'].append(user['profile']['real_name_normalized'])\n",
        "  user_dict['title'].append(user['profile']['title'])\n",
        "  user_dict['phone'].append(user['profile']['phone'])\n",
        "  user_dict['is_bot'].append(user['is_bot'])"
      ],
      "execution_count": 6,
      "outputs": []
    },
    {
      "cell_type": "code",
      "metadata": {
        "colab": {
          "base_uri": "https://localhost:8080/",
          "height": 204
        },
        "id": "yGNvsCauF8_w",
        "outputId": "dfc4c6f7-845c-4202-8fc7-43aeb328554a"
      },
      "source": [
        "user_df = pd.DataFrame(user_dict) ## Dùng pandas để convert dictionaries thành bảng\n",
        "user_df.head(5) ## Chỉ in 5 dòng đầu (chủ yếu để xem cấu trúc)"
      ],
      "execution_count": 7,
      "outputs": [
        {
          "output_type": "execute_result",
          "data": {
            "text/plain": [
              "       user_id               name       display_name           real_name  \\\n",
              "0    USLACKBOT           slackbot           Slackbot            Slackbot   \n",
              "1  U01AT4T75JB     loclexuan26392        Loc Le Xuan         Loc Le Xuan   \n",
              "2  U01AVDY7JET           locle.ds        Loc Le Xuan         Loc Le Xuan   \n",
              "3  U01BE2PR6LU     maianhdang.ftu                MAD  Dặng Huỳnh Mai Anh   \n",
              "4  U01C48T7S1J  huyenhoang.design  Thanh Huyen Hoang   Thanh Huyen Hoang   \n",
              "\n",
              "                title phone  is_bot  \n",
              "0                             False  \n",
              "1                             False  \n",
              "2                             False  \n",
              "3  Technical Contents         False  \n",
              "4                             False  "
            ],
            "text/html": "<div>\n<style scoped>\n    .dataframe tbody tr th:only-of-type {\n        vertical-align: middle;\n    }\n\n    .dataframe tbody tr th {\n        vertical-align: top;\n    }\n\n    .dataframe thead th {\n        text-align: right;\n    }\n</style>\n<table border=\"1\" class=\"dataframe\">\n  <thead>\n    <tr style=\"text-align: right;\">\n      <th></th>\n      <th>user_id</th>\n      <th>name</th>\n      <th>display_name</th>\n      <th>real_name</th>\n      <th>title</th>\n      <th>phone</th>\n      <th>is_bot</th>\n    </tr>\n  </thead>\n  <tbody>\n    <tr>\n      <th>0</th>\n      <td>USLACKBOT</td>\n      <td>slackbot</td>\n      <td>Slackbot</td>\n      <td>Slackbot</td>\n      <td></td>\n      <td></td>\n      <td>False</td>\n    </tr>\n    <tr>\n      <th>1</th>\n      <td>U01AT4T75JB</td>\n      <td>loclexuan26392</td>\n      <td>Loc Le Xuan</td>\n      <td>Loc Le Xuan</td>\n      <td></td>\n      <td></td>\n      <td>False</td>\n    </tr>\n    <tr>\n      <th>2</th>\n      <td>U01AVDY7JET</td>\n      <td>locle.ds</td>\n      <td>Loc Le Xuan</td>\n      <td>Loc Le Xuan</td>\n      <td></td>\n      <td></td>\n      <td>False</td>\n    </tr>\n    <tr>\n      <th>3</th>\n      <td>U01BE2PR6LU</td>\n      <td>maianhdang.ftu</td>\n      <td>MAD</td>\n      <td>Dặng Huỳnh Mai Anh</td>\n      <td>Technical Contents</td>\n      <td></td>\n      <td>False</td>\n    </tr>\n    <tr>\n      <th>4</th>\n      <td>U01C48T7S1J</td>\n      <td>huyenhoang.design</td>\n      <td>Thanh Huyen Hoang</td>\n      <td>Thanh Huyen Hoang</td>\n      <td></td>\n      <td></td>\n      <td>False</td>\n    </tr>\n  </tbody>\n</table>\n</div>"
          },
          "metadata": {},
          "execution_count": 7
        }
      ]
    },
    {
      "cell_type": "code",
      "metadata": {
        "colab": {
          "base_uri": "https://localhost:8080/",
          "height": 80
        },
        "id": "rjFcaWdt2ABM",
        "outputId": "1a114985-7608-4421-aa51-1e406cc427eb"
      },
      "source": [
        "user_df[user_df.display_name == 'MAD'] ## Lọc thông tin của MAD, trên DataFrame (bạn có thể Google thêm)"
      ],
      "execution_count": 8,
      "outputs": [
        {
          "output_type": "execute_result",
          "data": {
            "text/plain": [
              "       user_id            name display_name           real_name  \\\n",
              "3  U01BE2PR6LU  maianhdang.ftu          MAD  Dặng Huỳnh Mai Anh   \n",
              "\n",
              "                title phone  is_bot  \n",
              "3  Technical Contents         False  "
            ],
            "text/html": "<div>\n<style scoped>\n    .dataframe tbody tr th:only-of-type {\n        vertical-align: middle;\n    }\n\n    .dataframe tbody tr th {\n        vertical-align: top;\n    }\n\n    .dataframe thead th {\n        text-align: right;\n    }\n</style>\n<table border=\"1\" class=\"dataframe\">\n  <thead>\n    <tr style=\"text-align: right;\">\n      <th></th>\n      <th>user_id</th>\n      <th>name</th>\n      <th>display_name</th>\n      <th>real_name</th>\n      <th>title</th>\n      <th>phone</th>\n      <th>is_bot</th>\n    </tr>\n  </thead>\n  <tbody>\n    <tr>\n      <th>3</th>\n      <td>U01BE2PR6LU</td>\n      <td>maianhdang.ftu</td>\n      <td>MAD</td>\n      <td>Dặng Huỳnh Mai Anh</td>\n      <td>Technical Contents</td>\n      <td></td>\n      <td>False</td>\n    </tr>\n  </tbody>\n</table>\n</div>"
          },
          "metadata": {},
          "execution_count": 8
        }
      ]
    },
    {
      "cell_type": "markdown",
      "metadata": {
        "id": "1TZrcaWZyE07"
      },
      "source": [
        "-------------- HẾT PHẦN BẮT BUỘC ---------------------"
      ]
    },
    {
      "cell_type": "markdown",
      "metadata": {
        "id": "P3_b7zw-1A6s"
      },
      "source": [
        "## Option 1: Update data => Google SpreadSheet"
      ]
    },
    {
      "cell_type": "markdown",
      "metadata": {
        "id": "UPuXhw3WtmWw"
      },
      "source": [
        "### TODO#2\n",
        "Tạo service account (output là file json), file này để cho phép ta access vào Google Spreadsheet:\n",
        "\n",
        "1. Làm theo hướng dẫn: [Google Create a Service Account](https://support.google.com/a/answer/7378726?hl=en)\n",
        "![google_service_account](../img/google_service_account.png)\n",
        "2. Lưu file JSON (chứa credential về máy)\n",
        "![gservice_acc_json](../img/gservice_acc_json.png)\n",
        "3. Nhớ Enable [Google Drive API](https://console.cloud.google.com/marketplace/product/google/drive.googleapis.com?q=search&referrer=search&project=quickstart-313303) (Nếu bạn chạy code báo lỗi chưa enable API thì vào link trong phần lỗi để Enable, sau khi kích hoạt có thể cần vài phút để chạy được)\n",
        "![enable_api](../img/enable_api.png)\n",
        "* ==> Upload file Gsheet Credential JSON nếu bạn dùng Colab \n",
        "* ==> Nếu bạn để key trong repo git, **NHỚ** để file json vào `.gitignore` để không bị leaked key)\n"
      ]
    },
    {
      "cell_type": "code",
      "metadata": {
        "colab": {
          "base_uri": "https://localhost:8080/"
        },
        "id": "XhrcVjXWwldS",
        "outputId": "63133330-f68b-4adf-96a1-6d2c0e08dc70"
      },
      "source": [
        "!dir"
      ],
      "execution_count": 9,
      "outputs": [
        {
          "output_type": "stream",
          "name": "stdout",
          "text": [
            " Volume in drive C is Local Disk\n Volume Serial Number is AA17-54D9\n\n Directory of c:\\Users\\who is worrA\\OneDrive - VNU-HCMUS\\OSSU\\Datacracy\\atom-assignments\\atom-assignments\\assignment_3\n\n05/20/2021  04:28 PM    <DIR>          .\n05/20/2021  04:28 PM    <DIR>          ..\n05/21/2021  12:21 PM               145 env_variable.json\n05/20/2021  04:24 PM             2,330 fifth-dynamics-314309-366d9d5b8063.json\n05/21/2021  04:01 PM            27,922 home_assignment_3.ipynb\n05/16/2021  08:33 AM               235 README.md\n               4 File(s)         30,632 bytes\n               2 Dir(s)  28,237,594,624 bytes free\n"
          ]
        }
      ]
    },
    {
      "cell_type": "code",
      "metadata": {
        "colab": {
          "base_uri": "https://localhost:8080/"
        },
        "id": "4NEQFu-DNvFC",
        "outputId": "a855fe34-b409-4152-a218-67bfa240396f"
      },
      "source": [
        "## Authorize bằng JSON\n",
        "scope = ['https://spreadsheets.google.com/feeds',\n",
        "         'https://www.googleapis.com/auth/drive']\n",
        "credentials = ServiceAccountCredentials.from_json_keyfile_name(\n",
        "    'fifth-dynamics-314309-366d9d5b8063.json', scope)\n",
        "gc = gspread.authorize(credentials)\n",
        "print(\"DONE!\")"
      ],
      "execution_count": 10,
      "outputs": [
        {
          "output_type": "stream",
          "name": "stdout",
          "text": [
            "DONE!\n"
          ]
        }
      ]
    },
    {
      "cell_type": "markdown",
      "metadata": {
        "id": "HELBp0Sdxhzc"
      },
      "source": [
        "**Tạo Spreadsheet**\n",
        "\n",
        "1. Tạo Spreadsheet trên google\n",
        "2. Invite account trong `client_email` (file JSON Gsheet Credential bên trên) vào Spreadsheet (quyền Editor)\n",
        "![enable_api](../img/enable_api.png)\n",
        "3. Lấy `SPREADSHEET_KEY` (nằm trong chính URL của Spreadhstee): `https://docs.google.com/spreadsheets/d/<SPREADSHEET_KEY>/edit#gid=0`\n",
        "\n",
        "![add_gsheet](../img/add_gsheet.png)"
      ]
    },
    {
      "cell_type": "code",
      "metadata": {
        "id": "XlZ8JNB3bZbw"
      },
      "source": [
        "# ACCES GOOGLE SHEET\n",
        "sheet_index_no = 0\n",
        "spreadsheet_key = '1aoQDapFVNtZxqQemsO6hVs_x0DoT4kmNMIJKoeg2GpE' # input SPREADSHEET_KEY HERE\n",
        "sh = gc.open_by_key(spreadsheet_key)\n",
        "worksheet = sh.get_worksheet(sheet_index_no) #-> 0 - first sheet, 1 - second sheet etc. \n",
        "\n",
        "# APPEND DATA TO SHEET\n",
        "set_with_dataframe(worksheet, user_df) #-> Upload user_df vào Sheet đầu tiên trong Spreadsheet\n",
        "\n",
        "# DONE: Bây giờ bạn có thể mở spreadsheet và kiểm tra nội dung đã update chứ"
      ],
      "execution_count": 11,
      "outputs": []
    },
    {
      "source": [
        "![slack_user_gsheet](../img/slack_user_gsheet.png)"
      ],
      "cell_type": "markdown",
      "metadata": {}
    },
    {
      "cell_type": "markdown",
      "metadata": {
        "id": "5I15m3ilyA3Y"
      },
      "source": [
        "-------------- HẾT PHẦN OPTION 1 ---------------------"
      ]
    },
    {
      "cell_type": "markdown",
      "metadata": {
        "id": "9aRN9KSczkmr"
      },
      "source": [
        "## Option 2: Ai đã nộp bài?\n"
      ]
    },
    {
      "cell_type": "markdown",
      "metadata": {
        "id": "Pw81ioUz2N0v"
      },
      "source": [
        "### Slack API: Channel List"
      ]
    },
    {
      "cell_type": "code",
      "metadata": {
        "id": "fcdaDaGdz60p"
      },
      "source": [
        "## Gọi SLACK API để list tất cả các channel\n",
        "endpoint = \"https://slack.com/api/conversations.list\"\n",
        "headers = {\"Authorization\": \"Bearer {}\".format(os.environ['SLACK_BEARER_TOKEN'])}\n",
        "response = requests.post(endpoint, headers=headers).json() \n",
        "channel_ls = response['channels']"
      ],
      "execution_count": 12,
      "outputs": []
    },
    {
      "cell_type": "code",
      "execution_count": 13,
      "metadata": {},
      "outputs": [
        {
          "output_type": "stream",
          "name": "stdout",
          "text": [
            "general\ncontents\nbranding-design\natom-assignment1\natom-week1\natom-general\ntopics-data-analytics\ntopics-python\ntopics-materials\natom-assignment2\natom-week2\natom-week3\natom-assignment3\n"
          ]
        }
      ],
      "source": [
        "for channel in channel_ls:\n",
        "    print(channel.get('name',0))"
      ]
    },
    {
      "cell_type": "code",
      "metadata": {
        "colab": {
          "base_uri": "https://localhost:8080/"
        },
        "id": "47dUJAPi0Jg5",
        "outputId": "2762f1e8-ff65-4994-c3e5-1ab0f5dc9205"
      },
      "source": [
        "channel_ls[0] ## Thử extract record đầu tiên để xem schema  => name: general, id: C01B4PVGLVB"
      ],
      "execution_count": 14,
      "outputs": [
        {
          "output_type": "execute_result",
          "data": {
            "text/plain": [
              "{'id': 'C01B4PVGLVB',\n",
              " 'name': 'general',\n",
              " 'is_channel': True,\n",
              " 'is_group': False,\n",
              " 'is_im': False,\n",
              " 'created': 1600856703,\n",
              " 'is_archived': False,\n",
              " 'is_general': True,\n",
              " 'unlinked': 0,\n",
              " 'name_normalized': 'general',\n",
              " 'is_shared': False,\n",
              " 'parent_conversation': None,\n",
              " 'creator': 'U01BE2PR6LU',\n",
              " 'is_ext_shared': False,\n",
              " 'is_org_shared': False,\n",
              " 'shared_team_ids': ['T01B7SGGMLJ'],\n",
              " 'pending_shared': [],\n",
              " 'pending_connected_team_ids': [],\n",
              " 'is_pending_ext_shared': False,\n",
              " 'is_member': False,\n",
              " 'is_private': False,\n",
              " 'is_mpim': False,\n",
              " 'topic': {'value': '', 'creator': '', 'last_set': 0},\n",
              " 'purpose': {'value': 'This is the one channel that will always include everyone. It’s a great spot for announcements and team-wide conversations.',\n",
              "  'creator': 'U01BE2PR6LU',\n",
              "  'last_set': 1600856703},\n",
              " 'previous_names': [],\n",
              " 'num_members': 63}"
            ]
          },
          "metadata": {},
          "execution_count": 14
        }
      ]
    },
    {
      "cell_type": "markdown",
      "metadata": {
        "id": "CNFTcFC00l8g"
      },
      "source": [
        "### TODO#3 \n",
        "* Tìm id của channel #atom-assignment2"
      ]
    },
    {
      "cell_type": "code",
      "execution_count": 15,
      "metadata": {},
      "outputs": [
        {
          "output_type": "stream",
          "name": "stdout",
          "text": [
            "C021FSDN7LJ\n"
          ]
        }
      ],
      "source": [
        "for channel in channel_ls:\n",
        "    if channel['name'] == \"atom-assignment2\":\n",
        "        print(channel['id'])"
      ]
    },
    {
      "cell_type": "markdown",
      "metadata": {
        "id": "EnCvdYAn2R47"
      },
      "source": [
        "### Slack API: List messages trong 1 channel"
      ]
    },
    {
      "cell_type": "code",
      "metadata": {
        "id": "1UsSESN8rtnk"
      },
      "source": [
        "endpoint = \"https://slack.com/api/conversations.history\"\n",
        "data = {\"channel\": \"C01U6P7LZ8F\"} ## This is ID of assignment#1 channel\n",
        "headers = {\"Authorization\": \"Bearer {}\".format(os.environ['SLACK_BEARER_TOKEN'])}"
      ],
      "execution_count": 16,
      "outputs": []
    },
    {
      "cell_type": "code",
      "metadata": {
        "id": "i8eJw3LBr4lY"
      },
      "source": [
        "response_json = requests.post(endpoint, data=data, headers=headers).json()\n",
        "msg_ls = response_json['messages']"
      ],
      "execution_count": 17,
      "outputs": []
    },
    {
      "cell_type": "code",
      "execution_count": 18,
      "metadata": {},
      "outputs": [
        {
          "output_type": "execute_result",
          "data": {
            "text/plain": [
              "{'client_msg_id': '8a6f0a0c-f0dc-4666-b667-0f659766908f',\n",
              " 'type': 'message',\n",
              " 'text': 'Em gửi Assignment 1 ạ:\\n1. Link *Google Spreadsheet* Task 1: <https://docs.google.com/spreadsheets/d/1HaV9sUI6UQzgcRqpzkGy18XYlzcon2hWiFGuKhnz5IU/edit?usp=sharing>\\n2. Link *Google Colab* Task 2: <https://colab.research.google.com/drive/1ilny8bAtOMOT57mVxJDoEZyQWJ_9-UvX?usp=sharing>\\n3. Github: <https://github.com/saturn1101/datacracy-atom-phuong-tran>',\n",
              " 'user': 'U01V00KHHHP',\n",
              " 'ts': '1620031879.001200',\n",
              " 'team': 'T01B7SGGMLJ',\n",
              " 'attachments': [{'fallback': 'saturn1101/datacracy-atom-phuong-tran',\n",
              "   'title': 'saturn1101/datacracy-atom-phuong-tran',\n",
              "   'id': 1,\n",
              "   'color': '24292f',\n",
              "   'fields': [{'title': 'Language',\n",
              "     'value': 'Jupyter Notebook',\n",
              "     'short': True},\n",
              "    {'title': 'Last updated', 'value': '6 minutes ago', 'short': True}],\n",
              "   'bot_id': 'B01UQU8E2A3',\n",
              "   'app_unfurl_url': 'https://github.com/saturn1101/datacracy-atom-phuong-tran',\n",
              "   'is_app_unfurl': True},\n",
              "  {'title': 'Google Colaboratory',\n",
              "   'title_link': 'https://colab.research.google.com/drive/1ilny8bAtOMOT57mVxJDoEZyQWJ_9-UvX?usp=sharing',\n",
              "   'fallback': 'Google Colaboratory',\n",
              "   'image_url': 'https://colab.research.google.com/img/colab_favicon_256px.png',\n",
              "   'from_url': 'https://colab.research.google.com/drive/1ilny8bAtOMOT57mVxJDoEZyQWJ_9-UvX?usp=sharing',\n",
              "   'image_width': 250,\n",
              "   'image_height': 250,\n",
              "   'image_bytes': 4534,\n",
              "   'service_icon': 'https://colab.research.google.com/img/favicon.ico?vrz=colab-20210429-060047-RC00_371090719',\n",
              "   'service_name': 'colab.research.google.com',\n",
              "   'id': 1,\n",
              "   'original_url': 'https://colab.research.google.com/drive/1ilny8bAtOMOT57mVxJDoEZyQWJ_9-UvX?usp=sharing'}],\n",
              " 'blocks': [{'type': 'rich_text',\n",
              "   'block_id': 'rsRb',\n",
              "   'elements': [{'type': 'rich_text_section',\n",
              "     'elements': [{'type': 'text', 'text': 'Em gửi Assignment 1 ạ:\\n'}]},\n",
              "    {'type': 'rich_text_list',\n",
              "     'elements': [{'type': 'rich_text_section',\n",
              "       'elements': [{'type': 'text', 'text': 'Link '},\n",
              "        {'type': 'text',\n",
              "         'text': 'Google Spreadsheet',\n",
              "         'style': {'bold': True}},\n",
              "        {'type': 'text', 'text': ' Task 1: '},\n",
              "        {'type': 'link',\n",
              "         'url': 'https://docs.google.com/spreadsheets/d/1HaV9sUI6UQzgcRqpzkGy18XYlzcon2hWiFGuKhnz5IU/edit?usp=sharing'}]},\n",
              "      {'type': 'rich_text_section',\n",
              "       'elements': [{'type': 'text', 'text': 'Link '},\n",
              "        {'type': 'text', 'text': 'Google Colab', 'style': {'bold': True}},\n",
              "        {'type': 'text', 'text': ' Task 2: '},\n",
              "        {'type': 'link',\n",
              "         'url': 'https://colab.research.google.com/drive/1ilny8bAtOMOT57mVxJDoEZyQWJ_9-UvX?usp=sharing'}]},\n",
              "      {'type': 'rich_text_section',\n",
              "       'elements': [{'type': 'text', 'text': 'Github: '},\n",
              "        {'type': 'link',\n",
              "         'url': 'https://github.com/saturn1101/datacracy-atom-phuong-tran'}]}],\n",
              "     'style': 'ordered',\n",
              "     'indent': 0}]}],\n",
              " 'thread_ts': '1620031879.001200',\n",
              " 'reply_count': 1,\n",
              " 'reply_users_count': 1,\n",
              " 'latest_reply': '1621014686.024600',\n",
              " 'reply_users': ['U01UMBZHU2W'],\n",
              " 'is_locked': False,\n",
              " 'subscribed': False,\n",
              " 'reactions': [{'name': '+1', 'users': ['U01VB632FPS'], 'count': 1},\n",
              "  {'name': 'white_check_mark', 'users': ['U01UMBZHU2W'], 'count': 1}]}"
            ]
          },
          "metadata": {},
          "execution_count": 18
        }
      ],
      "source": [
        "\n",
        "msg_ls[21]"
      ]
    },
    {
      "cell_type": "code",
      "metadata": {
        "id": "BsW8CXAXv-tC"
      },
      "source": [
        "not_learners_id = ['U01BE2PR6LU']"
      ],
      "execution_count": 19,
      "outputs": []
    },
    {
      "cell_type": "code",
      "execution_count": 20,
      "metadata": {},
      "outputs": [
        {
          "output_type": "stream",
          "name": "stdout",
          "text": [
            "2021-05-10 11:51:46.004700 U01UJ9LG5U5 2 ['U01USGKQ771', 'U01V00KHHHP'] 2021-05-15 16:14:31.003600 https://github.com/danhpcv/\n2021-05-10 11:35:39.003800 U01UMC08KL2 2 ['U01UTGS5ZNY', 'U01UMC08KL2'] 2021-05-18 15:09:59.000800 https://github.com/auslynnguyen/\n2021-05-08 13:31:59.005200 U01UMJ36QD9 1 ['U01UMBX2X18'] 2021-05-08 13:36:43.006000 https://github.com/auslynnguyen/\n2021-05-04 20:55:46.001800 U01UTGVPE7N 1 ['U01UMBX2X18'] 2021-05-08 13:36:43.006000 https://github.com/hoaintp/\n"
          ]
        }
      ],
      "source": [
        "not_learners_id = ['U01BE2PR6LU'] # -> Remove MA from the user_id\n",
        "github, reply_count, reply_users_count, reply_users, latest_reply = '','','','',''\n",
        "for i in range(20):\n",
        "  ts = dt.fromtimestamp(float(msg_ls[i]['ts'])) # -> Convert timestamp Epoch thành dàng dễ đọc\n",
        "  user = msg_ls[i]['user'] # -> Lấy thông tin người post messages\n",
        "  if msg_ls[i]['user'] not in not_learners_id:\n",
        "    if 'attachments' in msg_ls[i].keys():\n",
        "      #print(msg_ls[i].keys())\n",
        "      text = msg_ls[i]['text']\n",
        "      github_link = re.findall('(?:https?://)?(?:www[.])?github[.]com/[\\w-]+/?', text) #-> Submission là các message có link github\n",
        "      #print(msg_ls[i])\n",
        "      if len(github_link) > 0: github = github_link[0]\n",
        "      if 'reply_count' in msg_ls[i].keys(): reply_count = msg_ls[i]['reply_count'] #-> Extract số review\n",
        "      if 'reply_users_count' in msg_ls[i].keys(): reply_users_count = msg_ls[i]['reply_users_count']\n",
        "      if 'reply_users' in msg_ls[i].keys(): reply_users = msg_ls[i]['reply_users']\n",
        "      if 'latest_reply' in msg_ls[i].keys(): latest_reply = dt.fromtimestamp(float(msg_ls[i]['latest_reply']))\n",
        "      print(ts, user, reply_users_count, reply_users, latest_reply, github)"
      ]
    },
    {
      "cell_type": "code",
      "execution_count": 21,
      "metadata": {},
      "outputs": [],
      "source": [
        "endpoint = \"https://slack.com/api/conversations.history\"\n",
        "data = {\"channel\": \"C01U6P7LZ8F\"} ## This is ID of assignment1 channel\n",
        "headers = {\"Authorization\": \"Bearer {}\".format(os.environ['SLACK_BEARER_TOKEN'])}\n",
        "\n",
        "response_json = requests.post(endpoint, data=data, headers=headers).json()\n",
        "msg_ls = response_json['messages'] # lưu tất cả message trong channel assignment1 vào msg_ls\n",
        "\n",
        "not_learners_id = ['U01BE2PR6LU'] # -> Remove MA from the user_id\n",
        "review = {'time':[],'user_id':[],'user_name':[],'reply_count':[],'reply_user_count':[],'reply_users':[],'reply_users_name':[],'lastest_reply':[],'github':[],'colab':[],'sheet':[]} # Khởi tạo review dict\n",
        "\n",
        "for msg in msg_ls:                                        # Loop từng tin nhắn trong assignment1\n",
        "  ts = dt.fromtimestamp(float(msg['ts']))                 # Thời gian gửi tin nhắn\n",
        "  user = msg['user'] \n",
        "  if msg['user'] not in not_learners_id:                  # Nếu người gửi không phải learner\n",
        "    text = msg['text']                                    # lưu nội dung tin nhắn vào text\n",
        "    re_github = r'(?:https?://)?(?:www[.])?github[.]com/(?:[a-zA-Z]|[0-9]|[#$-_@.&+]|[!*\\(\\),]|(?:%[0-9a-fA-F][0-9a-fA-F]))+' # Regex link Github\n",
        "    github_link = re.findall(re_github, text)             # Tìm link Github trong tin nhắn\n",
        "    re_gsheet = r'(?:https?://)?(?:www[.])?docs[.]google[.]com/(?:[a-zA-Z]|[0-9]|[$#-_@.&+]|[!*\\(\\),]|(?:%[0-9a-fA-F][0-9a-fA-F]))+' # Regex link Google Sheet\n",
        "    sheet_link = re.findall(re_gsheet,text)               # Tìm link Gsheet trong tin nhắn\n",
        "    re_colab = r'(?:https?://)?(?:www[.])?colab[.]research[.]google[.]com/(?:[a-zA-Z]|[0-9]|[$#-_@.&+]|[!*\\(\\),]|(?:%[0-9a-fA-F][0-9a-fA-F]))+'                                                             \n",
        "    colab_link = re.findall(re_colab,text)                # Tìm link colab trong tin nhắn\n",
        "\n",
        "    if len(github_link) > 0 or len(sheet_link) > 0 or len(colab_link) > 0:       # Nếu trong tin nhắn chứa link Github hoặc Gsheet hoặc Colab\n",
        " \n",
        "      if len(github_link) > 0:                            # Nếu có link Github thì lưu vào github\n",
        "        github = github_link[0]\n",
        "      else:\n",
        "        github = 'N/A'                                    # Nếu không thì lưu N/A vào github\n",
        "      if len(sheet_link) > 0: \n",
        "        sheet = sheet_link[0]\n",
        "      else:\n",
        "        sheet = 'N/A'\n",
        "      if len(colab_link) > 0: \n",
        "        colab = colab_link[0]\n",
        "      else:\n",
        "        colab = 'N/A'\n",
        "\n",
        "      review['github'].append(github)                     # append \n",
        "      review['colab'].append(colab)\n",
        "      review['sheet'].append(sheet)\n",
        "\n",
        "      if 'reply_count' in msg.keys(): \n",
        "        review['reply_count'].append(msg['reply_count'])\n",
        "      else:\n",
        "        review['reply_count'].append(0)\n",
        "      if 'reply_users_count' in msg.keys():\n",
        "        review['reply_user_count'].append(msg['reply_users_count'])\n",
        "      else:\n",
        "        review['reply_user_count'].append(0)\n",
        "      if 'reply_users' in msg.keys():\n",
        "        review['reply_users'].append(msg['reply_users'])\n",
        "      else:\n",
        "        review['reply_users'].append('N/A')\n",
        "      if 'latest_reply' in msg.keys():\n",
        "        review['lastest_reply'].append(dt.fromtimestamp(float(msg['latest_reply'])))\n",
        "      else:\n",
        "        review['lastest_reply'].append('N/A')\n",
        "\n",
        "      review['time'].append(ts)\n",
        "      review['user_id'].append(user)\n",
        "      for i in range(len(user_dict['user_id'])):\n",
        "        if user_dict['user_id'][i] == user:\n",
        "          review['user_name'].append(user_dict['real_name'][i])\n",
        "\n",
        "      if 'reply_users' in msg.keys():\n",
        "        l=[]\n",
        "        for user in msg['reply_users']:\n",
        "          for i in range(len(user_dict['user_id'])):\n",
        "            if user_dict['user_id'][i] == user:\n",
        "              l.append(user_dict['real_name'][i])\n",
        "        review['reply_users_name'].append(l)\n",
        "      else:\n",
        "        review['reply_users_name'].append('N/A')\n"
      ]
    },
    {
      "cell_type": "code",
      "execution_count": 22,
      "metadata": {},
      "outputs": [],
      "source": [
        "reply = pd.DataFrame(review)\n"
      ]
    },
    {
      "cell_type": "code",
      "execution_count": 23,
      "metadata": {},
      "outputs": [],
      "source": [
        "sh = gc.open_by_key(spreadsheet_key)\n",
        "worksheet = sh.get_worksheet(1)\n",
        "set_with_dataframe(worksheet,reply)"
      ]
    },
    {
      "cell_type": "code",
      "execution_count": 24,
      "metadata": {},
      "outputs": [
        {
          "output_type": "stream",
          "name": "stdout",
          "text": [
            "C021FSDN7LJ\n"
          ]
        }
      ],
      "source": [
        "for channel in channel_ls:\n",
        "    if channel['name'] == \"atom-assignment2\":\n",
        "        print(channel['id'])"
      ]
    },
    {
      "cell_type": "code",
      "execution_count": 25,
      "metadata": {},
      "outputs": [],
      "source": [
        "endpoint = \"https://slack.com/api/conversations.history\"\n",
        "data = {\"channel\": \"C021FSDN7LJ\"} ## This is ID of assignment1 channel\n",
        "headers = {\"Authorization\": \"Bearer {}\".format(os.environ['SLACK_BEARER_TOKEN'])}\n",
        "\n",
        "response_json = requests.post(endpoint, data=data, headers=headers).json()\n",
        "msg_ls = response_json['messages'] # lưu tất cả message trong channel assignment1 vào msg_ls\n",
        "\n",
        "not_learners_id = ['U01BE2PR6LU'] # -> Remove MA from the user_id\n",
        "review = {'time':[],'user_id':[],'user_name':[],'reply_count':[],'reply_user_count':[],'reply_users':[],'reply_users_name':[],'lastest_reply':[],'github':[],'colab':[],'sheet':[]} # Khởi tạo review dict\n",
        "\n",
        "for msg in msg_ls:                                        # Loop từng tin nhắn trong assignment1\n",
        "  ts = dt.fromtimestamp(float(msg['ts']))                 # Thời gian gửi tin nhắn\n",
        "  user = msg['user'] \n",
        "  if msg['user'] not in not_learners_id:                  # Nếu người gửi không phải learner\n",
        "    text = msg['text']                                    # lưu nội dung tin nhắn vào text\n",
        "    re_github = r'(?:https?://)?(?:www[.])?github[.]com/(?:[a-zA-Z]|[0-9]|[#$-_@.&+]|[!*\\(\\),]|(?:%[0-9a-fA-F][0-9a-fA-F]))+' # Regex link Github\n",
        "    github_link = re.findall(re_github, text)             # Tìm link Github trong tin nhắn\n",
        "    re_gsheet = r'(?:https?://)?(?:www[.])?docs[.]google[.]com/(?:[a-zA-Z]|[0-9]|[$#-_@.&+]|[!*\\(\\),]|(?:%[0-9a-fA-F][0-9a-fA-F]))+' # Regex link Google Sheet\n",
        "    sheet_link = re.findall(re_gsheet,text)               # Tìm link Gsheet trong tin nhắn\n",
        "    re_colab = r'(?:https?://)?(?:www[.])?colab[.]research[.]google[.]com/(?:[a-zA-Z]|[0-9]|[$#-_@.&+]|[!*\\(\\),]|(?:%[0-9a-fA-F][0-9a-fA-F]))+'                                                             \n",
        "    colab_link = re.findall(re_colab,text)                # Tìm link colab trong tin nhắn\n",
        "\n",
        "    if len(github_link) > 0 or len(sheet_link) > 0 or len(colab_link) > 0:       # Nếu trong tin nhắn chứa link Github hoặc Gsheet hoặc Colab\n",
        " \n",
        "      if len(github_link) > 0:                            # Nếu có link Github thì lưu vào github\n",
        "        github = github_link[0]\n",
        "      else:\n",
        "        github = 'N/A'                                    # Nếu không thì lưu N/A vào github\n",
        "      if len(sheet_link) > 0: \n",
        "        sheet = sheet_link[0]\n",
        "      else:\n",
        "        sheet = 'N/A'\n",
        "      if len(colab_link) > 0: \n",
        "        colab = colab_link[0]\n",
        "      else:\n",
        "        colab = 'N/A'\n",
        "\n",
        "      review['github'].append(github)                     # append \n",
        "      review['colab'].append(colab)\n",
        "      review['sheet'].append(sheet)\n",
        "\n",
        "      if 'reply_count' in msg.keys(): \n",
        "        review['reply_count'].append(msg['reply_count'])\n",
        "      else:\n",
        "        review['reply_count'].append(0)\n",
        "      if 'reply_users_count' in msg.keys():\n",
        "        review['reply_user_count'].append(msg['reply_users_count'])\n",
        "      else:\n",
        "        review['reply_user_count'].append(0)\n",
        "      if 'reply_users' in msg.keys():\n",
        "        review['reply_users'].append(msg['reply_users'])\n",
        "      else:\n",
        "        review['reply_users'].append('N/A')\n",
        "      if 'latest_reply' in msg.keys():\n",
        "        review['lastest_reply'].append(dt.fromtimestamp(float(msg['latest_reply'])))\n",
        "      else:\n",
        "        review['lastest_reply'].append('N/A')\n",
        "\n",
        "      review['time'].append(ts)\n",
        "      review['user_id'].append(user)\n",
        "      for i in range(len(user_dict['user_id'])):\n",
        "        if user_dict['user_id'][i] == user:\n",
        "          review['user_name'].append(user_dict['real_name'][i])\n",
        "\n",
        "      if 'reply_users' in msg.keys():\n",
        "        l=[]\n",
        "        for user in msg['reply_users']:\n",
        "          for i in range(len(user_dict['user_id'])):\n",
        "            if user_dict['user_id'][i] == user:\n",
        "              l.append(user_dict['real_name'][i])\n",
        "        review['reply_users_name'].append(l)\n",
        "      else:\n",
        "        review['reply_users_name'].append('N/A')\n"
      ]
    },
    {
      "cell_type": "code",
      "execution_count": 26,
      "metadata": {},
      "outputs": [],
      "source": [
        "reply = pd.DataFrame(review)\n",
        "sh = gc.open_by_key(spreadsheet_key)\n",
        "worksheet = sh.get_worksheet(2)\n",
        "set_with_dataframe(worksheet,reply)"
      ]
    },
    {
      "cell_type": "markdown",
      "metadata": {
        "id": "SgSC21qO3kKA"
      },
      "source": [
        "### TODO#4\n",
        "* Tạo thành 1 bảng chứa các thông tin trên và update lên Spreadsheet (Sheet: Assignment#2 Submission)"
      ]
    },
    {
      "cell_type": "markdown",
      "metadata": {
        "id": "698exK3k35RM"
      },
      "source": [
        "-------------- HẾT PHẦN OPTION 2 ---------------------"
      ]
    }
  ]
}